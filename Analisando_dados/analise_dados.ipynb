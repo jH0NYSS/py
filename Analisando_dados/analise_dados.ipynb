{
 "cells": [
  {
   "cell_type": "markdown",
   "metadata": {},
   "source": [
    "# Python Insights - Analisando Dados com Python\n",
    "\n",
    "### Case - Cancelamento de Clientes\n",
    "\n",
    "Você foi contratado por uma empresa com mais de 800 mil clientes para um projeto de Dados. Recentemente a empresa percebeu que da sua base total de clientes, a maioria são clientes inativos, ou seja, que já cancelaram o serviço.\n",
    "\n",
    "Precisando melhorar seus resultados ela quer conseguir entender os principais motivos desses cancelamentos e quais as ações mais eficientes para reduzir esse número."
   ]
  },
  {
   "cell_type": "code",
   "execution_count": null,
   "metadata": {},
   "outputs": [],
   "source": [
    "import pandas as pd\n",
    "\n",
    "tabela = pd.read_csv(\"cancelamentos.csv\")\n",
    "\n",
    "tabela = tabela.drop(columns=\"CustomerID\")\n",
    "\n",
    "display(tabela)"
   ]
  },
  {
   "cell_type": "code",
   "execution_count": null,
   "metadata": {},
   "outputs": [],
   "source": [
    "# display(tabela.info()) # mostra quantas variaveis em cada coluna    \n",
    "# tabela = tabela.dropna() # retira linhas que tenham alguma coluna vazia\n"
   ]
  },
  {
   "cell_type": "code",
   "execution_count": null,
   "metadata": {},
   "outputs": [],
   "source": [
    "display(tabela[\"cancelou\"].value_counts()) # mostra quantos linhas tem a variavel \"cancelou\"    \n",
    "display(tabela[\"cancelou\"].value_counts(normalize=True)) # mesma coisa do de cima so que em % \n",
    "display(tabela[\"cancelou\"].value_counts(normalize=True).map(\"{:.2%}\".format)) # mesma coisa do de cima so que com apenas 2 casa decimais depois da virgula e com o % no final\n",
    "\n"
   ]
  },
  {
   "cell_type": "code",
   "execution_count": null,
   "metadata": {},
   "outputs": [],
   "source": [
    "import plotly.express as px\n",
    "\n",
    "for coluna in tabela.columns:\n",
    "    grafico = px.histogram(tabela, x=coluna, color=\"cancelou\")\n",
    "\n",
    "    grafico.show()\n"
   ]
  },
  {
   "cell_type": "code",
   "execution_count": null,
   "metadata": {},
   "outputs": [],
   "source": [
    "# analise de cancelamento\n",
    "\n",
    "# se um cliente ligar mais 4 vezes ele cancela\n",
    "    # criar um alerta para caso o cliente ligar 3 vezes, faz de td pra resolver o problema \n",
    "\n",
    "# se ele atrasar mais de 20 dias ele cancela  \n",
    "    # criar um processo pra nao deiaxar o cliente atrasar 20 dias\n",
    "\n",
    "# todos os clientes mensais cancelaram\n",
    "    # aumentar o preço do mensal e abaixar o trimestral e anual\n",
    "\n",
    "# criar um se n tivesse esses problemas\n",
    "\n",
    "\n",
    "\n",
    "tabela = tabela[tabela[\"duracao_contrato\"]!=\"Monthly\"] # SEM DURAÇÃO DE CONTRATO MENSAL\n",
    "tabela = tabela[tabela[\"ligacoes_callcenter\"]<=4] # SEM CLIENTES LIGANDO MAIS DE 4 VEZES\n",
    "tabela = tabela[tabela[\"dias_atraso\"]<=20] # SEM ATRASO DE PAGAMENTO MAIOR DO QUE 20 DIAS\n",
    "\n",
    "display(tabela[\"cancelou\"].value_counts(normalize=True).map(\"{:.2%}\".format))"
   ]
  }
 ],
 "metadata": {
  "kernelspec": {
   "display_name": "base",
   "language": "python",
   "name": "python3"
  },
  "language_info": {
   "codemirror_mode": {
    "name": "ipython",
    "version": 3
   },
   "file_extension": ".py",
   "mimetype": "text/x-python",
   "name": "python",
   "nbconvert_exporter": "python",
   "pygments_lexer": "ipython3",
   "version": "3.12.2"
  },
  "orig_nbformat": 4
 },
 "nbformat": 4,
 "nbformat_minor": 2
}
